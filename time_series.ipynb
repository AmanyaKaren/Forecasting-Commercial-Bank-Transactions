{
 "cells": [
  {
   "cell_type": "markdown",
   "id": "ea146a98",
   "metadata": {},
   "source": [
    "# **Forecasting Commercial Banks Transactions**"
   ]
  },
  {
   "cell_type": "markdown",
   "id": "043d1cca",
   "metadata": {},
   "source": [
    "<ol><i>Authors</i>:\n",
    "    <li>Nobert Akwir</li>\n",
    "    <li>Karen Amanya</li>\n",
    "    <li>Eugene Kuloba</li>\n",
    "    <li>David Mwiti</li>\n",
    "    <li>Anthony Nene</li>\n",
    "</ol>"
   ]
  },
  {
   "cell_type": "markdown",
   "id": "fc1fbac6",
   "metadata": {},
   "source": [
    "## **1. Business Understanding**"
   ]
  },
  {
   "cell_type": "markdown",
   "id": "e37cbd26",
   "metadata": {},
   "source": [
    "<img src = 'Images/bank-img.jpg' ></img>"
   ]
  },
  {
   "cell_type": "markdown",
   "id": "e7e07056",
   "metadata": {},
   "source": [
    "The Banking sector in Kenya has been seeing immense growth over the past few years, this being in direct relation to the penetration rate/ improved access to banking services by major banks we have in Kenya. From the Central Bank’s Financial access report(2021), 29.6% of the total population of Kenyans having formal access to bank services still used physical bank branches.\n",
    "\n",
    "As this penetration rate has increased, the level of customer interaction and transactions at the branch level has also increased, hence leading to branches requesting more cash from their central vaults, and also repatriating more cash back to the central vault. This sometimes is not the norm, as the branches have to breach their vault limit due to more transactions by the customers even after repatriation is done(which are always in the morning hours), or even having requested less cash hence them not having enough cash to serve the customers.\n",
    "\n",
    "The branches holding this excess cash leads the bank to incur more expenses as they have to take a cover for the excess cash, and also this is large risk exposure to the bank if the branches get hit. For the less cash perspective, this brings dissatisfaction to their customers and brings down the rating of the bank.\n",
    "\n",
    "NCBA Bank is a commercial banking company that aims to conduct research to get findings that aid in confirming how much their branches should hold at specific periods in order for them to have sufficient funds to carry out its business with its customers and also not breach its vaults limits by too much.This project aims to develop a time series analysis model that will describe and forecast future transaction thresholds, to assist the bank’s branches identify the amount of cash they need at specific periods of time in order to prevent being over limit and also have satisfactory cash to serve their customers.\n"
   ]
  },
  {
   "cell_type": "markdown",
   "id": "1580898a",
   "metadata": {},
   "source": [
    "### **Objectives**\n",
    "\n",
    "> #### **General Objective**\n",
    "The general objective is to develop a model that will successfully forecast cash transactions that will help NCBA Bank maintain a sufficient cash at its specifc branches.\n",
    "> #### **Specific Objectives**\n",
    "<ul type='square'>\n",
    "    <li >  </li>\n",
    "    <li> </li>\n",
    "    <li></li>\n",
    "</ul>\n"
   ]
  },
  {
   "cell_type": "markdown",
   "id": "dfd2fd30",
   "metadata": {},
   "source": [
    "### **Success Criteria**"
   ]
  },
  {
   "cell_type": "markdown",
   "id": "ecd58362",
   "metadata": {},
   "source": [
    "## **2. Data Understanding**"
   ]
  },
  {
   "cell_type": "markdown",
   "id": "40f2fd5f",
   "metadata": {},
   "source": [
    "The data used in this project is sources from data world. The data consists of demo bank transaction details(debits and credits) carried out by different customers and includes other details such as the amount, the mode of transaction(either cash, RTGS, EFT, SWIFT e.t.c), the account's balance at the time of the transation, the time of the transaction e.t.c"
   ]
  },
  {
   "cell_type": "markdown",
   "id": "b5d16363",
   "metadata": {},
   "source": [
    "#### **Importing the required libraries**"
   ]
  },
  {
   "cell_type": "code",
   "execution_count": 1,
   "id": "be6d1ad7",
   "metadata": {},
   "outputs": [],
   "source": [
    "import pandas as pd"
   ]
  },
  {
   "cell_type": "code",
   "execution_count": 3,
   "id": "e9c56020",
   "metadata": {},
   "outputs": [
    {
     "name": "stderr",
     "output_type": "stream",
     "text": [
      "C:\\Users\\Karen\\AppData\\Local\\Temp\\ipykernel_3268\\3692760457.py:1: DtypeWarning: Columns (8) have mixed types. Specify dtype option on import or set low_memory=False.\n",
      "  raw_df = pd.read_csv('Data/completedtrans.csv')\n"
     ]
    },
    {
     "data": {
      "text/html": [
       "<div>\n",
       "<style scoped>\n",
       "    .dataframe tbody tr th:only-of-type {\n",
       "        vertical-align: middle;\n",
       "    }\n",
       "\n",
       "    .dataframe tbody tr th {\n",
       "        vertical-align: top;\n",
       "    }\n",
       "\n",
       "    .dataframe thead th {\n",
       "        text-align: right;\n",
       "    }\n",
       "</style>\n",
       "<table border=\"1\" class=\"dataframe\">\n",
       "  <thead>\n",
       "    <tr style=\"text-align: right;\">\n",
       "      <th></th>\n",
       "      <th>Unnamed: 0</th>\n",
       "      <th>trans_id</th>\n",
       "      <th>account_id</th>\n",
       "      <th>type</th>\n",
       "      <th>operation</th>\n",
       "      <th>amount</th>\n",
       "      <th>balance</th>\n",
       "      <th>k_symbol</th>\n",
       "      <th>bank</th>\n",
       "      <th>account</th>\n",
       "      <th>year</th>\n",
       "      <th>month</th>\n",
       "      <th>day</th>\n",
       "      <th>fulldate</th>\n",
       "      <th>fulltime</th>\n",
       "      <th>fulldatewithtime</th>\n",
       "    </tr>\n",
       "  </thead>\n",
       "  <tbody>\n",
       "    <tr>\n",
       "      <th>0</th>\n",
       "      <td>1</td>\n",
       "      <td>T00695247</td>\n",
       "      <td>A00002378</td>\n",
       "      <td>Credit</td>\n",
       "      <td>Credit in Cash</td>\n",
       "      <td>700.0</td>\n",
       "      <td>700.0</td>\n",
       "      <td>NaN</td>\n",
       "      <td>NaN</td>\n",
       "      <td>NaN</td>\n",
       "      <td>2013</td>\n",
       "      <td>1</td>\n",
       "      <td>1</td>\n",
       "      <td>2013-01-01</td>\n",
       "      <td>11:02:40</td>\n",
       "      <td>2013-01-01T11:02:40</td>\n",
       "    </tr>\n",
       "    <tr>\n",
       "      <th>1</th>\n",
       "      <td>2</td>\n",
       "      <td>T00171812</td>\n",
       "      <td>A00000576</td>\n",
       "      <td>Credit</td>\n",
       "      <td>Credit in Cash</td>\n",
       "      <td>900.0</td>\n",
       "      <td>900.0</td>\n",
       "      <td>NaN</td>\n",
       "      <td>NaN</td>\n",
       "      <td>NaN</td>\n",
       "      <td>2013</td>\n",
       "      <td>1</td>\n",
       "      <td>1</td>\n",
       "      <td>2013-01-01</td>\n",
       "      <td>08:23:33</td>\n",
       "      <td>2013-01-01T08:23:33</td>\n",
       "    </tr>\n",
       "    <tr>\n",
       "      <th>2</th>\n",
       "      <td>3</td>\n",
       "      <td>T00207264</td>\n",
       "      <td>A00000704</td>\n",
       "      <td>Credit</td>\n",
       "      <td>Credit in Cash</td>\n",
       "      <td>1000.0</td>\n",
       "      <td>1000.0</td>\n",
       "      <td>NaN</td>\n",
       "      <td>NaN</td>\n",
       "      <td>NaN</td>\n",
       "      <td>2013</td>\n",
       "      <td>1</td>\n",
       "      <td>1</td>\n",
       "      <td>2013-01-01</td>\n",
       "      <td>15:19:21</td>\n",
       "      <td>2013-01-01T15:19:21</td>\n",
       "    </tr>\n",
       "    <tr>\n",
       "      <th>3</th>\n",
       "      <td>4</td>\n",
       "      <td>T01117247</td>\n",
       "      <td>A00003818</td>\n",
       "      <td>Credit</td>\n",
       "      <td>Credit in Cash</td>\n",
       "      <td>600.0</td>\n",
       "      <td>600.0</td>\n",
       "      <td>NaN</td>\n",
       "      <td>NaN</td>\n",
       "      <td>NaN</td>\n",
       "      <td>2013</td>\n",
       "      <td>1</td>\n",
       "      <td>1</td>\n",
       "      <td>2013-01-01</td>\n",
       "      <td>10:42:35</td>\n",
       "      <td>2013-01-01T10:42:35</td>\n",
       "    </tr>\n",
       "    <tr>\n",
       "      <th>4</th>\n",
       "      <td>5</td>\n",
       "      <td>T00579373</td>\n",
       "      <td>A00001972</td>\n",
       "      <td>Credit</td>\n",
       "      <td>Credit in Cash</td>\n",
       "      <td>400.0</td>\n",
       "      <td>400.0</td>\n",
       "      <td>NaN</td>\n",
       "      <td>NaN</td>\n",
       "      <td>NaN</td>\n",
       "      <td>2013</td>\n",
       "      <td>1</td>\n",
       "      <td>2</td>\n",
       "      <td>2013-01-02</td>\n",
       "      <td>11:39:25</td>\n",
       "      <td>2013-01-02T11:39:25</td>\n",
       "    </tr>\n",
       "  </tbody>\n",
       "</table>\n",
       "</div>"
      ],
      "text/plain": [
       "   Unnamed: 0   trans_id account_id    type       operation  amount  balance  \\\n",
       "0           1  T00695247  A00002378  Credit  Credit in Cash   700.0    700.0   \n",
       "1           2  T00171812  A00000576  Credit  Credit in Cash   900.0    900.0   \n",
       "2           3  T00207264  A00000704  Credit  Credit in Cash  1000.0   1000.0   \n",
       "3           4  T01117247  A00003818  Credit  Credit in Cash   600.0    600.0   \n",
       "4           5  T00579373  A00001972  Credit  Credit in Cash   400.0    400.0   \n",
       "\n",
       "  k_symbol bank  account  year  month  day    fulldate  fulltime  \\\n",
       "0      NaN  NaN      NaN  2013      1    1  2013-01-01  11:02:40   \n",
       "1      NaN  NaN      NaN  2013      1    1  2013-01-01  08:23:33   \n",
       "2      NaN  NaN      NaN  2013      1    1  2013-01-01  15:19:21   \n",
       "3      NaN  NaN      NaN  2013      1    1  2013-01-01  10:42:35   \n",
       "4      NaN  NaN      NaN  2013      1    2  2013-01-02  11:39:25   \n",
       "\n",
       "      fulldatewithtime  \n",
       "0  2013-01-01T11:02:40  \n",
       "1  2013-01-01T08:23:33  \n",
       "2  2013-01-01T15:19:21  \n",
       "3  2013-01-01T10:42:35  \n",
       "4  2013-01-02T11:39:25  "
      ]
     },
     "execution_count": 3,
     "metadata": {},
     "output_type": "execute_result"
    }
   ],
   "source": [
    "raw_df = pd.read_csv('Data/completedtrans.csv')\n",
    "raw_df.head()"
   ]
  },
  {
   "cell_type": "code",
   "execution_count": 4,
   "id": "f1cb9246",
   "metadata": {},
   "outputs": [
    {
     "name": "stdout",
     "output_type": "stream",
     "text": [
      "<class 'pandas.core.frame.DataFrame'>\n",
      "RangeIndex: 1056320 entries, 0 to 1056319\n",
      "Data columns (total 16 columns):\n",
      " #   Column            Non-Null Count    Dtype  \n",
      "---  ------            --------------    -----  \n",
      " 0   Unnamed: 0        1056320 non-null  int64  \n",
      " 1   trans_id          1056320 non-null  object \n",
      " 2   account_id        1056320 non-null  object \n",
      " 3   type              1056320 non-null  object \n",
      " 4   operation         873206 non-null   object \n",
      " 5   amount            1056320 non-null  float64\n",
      " 6   balance           1056320 non-null  float64\n",
      " 7   k_symbol          574439 non-null   object \n",
      " 8   bank              273508 non-null   object \n",
      " 9   account           295389 non-null   float64\n",
      " 10  year              1056320 non-null  int64  \n",
      " 11  month             1056320 non-null  int64  \n",
      " 12  day               1056320 non-null  int64  \n",
      " 13  fulldate          1056320 non-null  object \n",
      " 14  fulltime          1056320 non-null  object \n",
      " 15  fulldatewithtime  1056320 non-null  object \n",
      "dtypes: float64(3), int64(4), object(9)\n",
      "memory usage: 128.9+ MB\n"
     ]
    }
   ],
   "source": [
    "raw_df.info()"
   ]
  },
  {
   "cell_type": "markdown",
   "id": "c97a82e4",
   "metadata": {},
   "source": [
    "From our objectives, the features we will need are the amount, operatio(which describe the nature of the transaction) and fulldate and fulltime features.\n",
    "One thing we have to note, is that we will be only looking into transaction operations that deal with physical cash."
   ]
  },
  {
   "cell_type": "code",
   "execution_count": 5,
   "id": "a4d4e8d2",
   "metadata": {},
   "outputs": [
    {
     "data": {
      "text/plain": [
       "array(['Credit in Cash', 'Collection from Another Bank',\n",
       "       'Cash Withdrawal', nan, 'Remittance to Another Bank',\n",
       "       'Credit Card Withdrawal'], dtype=object)"
      ]
     },
     "execution_count": 5,
     "metadata": {},
     "output_type": "execute_result"
    }
   ],
   "source": [
    "#Checking unique values in the operation's feature.\n",
    "raw_df['operation'].unique()"
   ]
  },
  {
   "cell_type": "markdown",
   "id": "9c77e308",
   "metadata": {},
   "source": [
    "As per above array of unique values in our operation's feature of the dataset, the categories that deal with physical cash are the \"Credit in Cash\" and \"Cash Withdrawal\". The \"Collection from Another Bank\" and \"Remittance to another Bank\" rarely deal with hard cash as they are mostly transfered through Real Time Gross Settlement. As for the \"Credit Card Withdrawal\", most of this transactions are done through the ATMs, and the ATMs cash are handled at a different vault and not the branches vault therefore it not be ideal to consider them fro our model."
   ]
  },
  {
   "cell_type": "code",
   "execution_count": 6,
   "id": "deb3e039",
   "metadata": {},
   "outputs": [
    {
     "data": {
      "text/plain": [
       "Cash Withdrawal                 434918\n",
       "Remittance to Another Bank      208283\n",
       "Credit in Cash                  156743\n",
       "Collection from Another Bank     65226\n",
       "Credit Card Withdrawal            8036\n",
       "Name: operation, dtype: int64"
      ]
     },
     "execution_count": 6,
     "metadata": {},
     "output_type": "execute_result"
    }
   ],
   "source": [
    "#Checking the value counts of the unique categories in the \"operation\"column\n",
    "raw_df['operation'].value_counts()"
   ]
  },
  {
   "cell_type": "code",
   "execution_count": 7,
   "id": "de075797",
   "metadata": {},
   "outputs": [
    {
     "data": {
      "text/plain": [
       "(156743, 3)"
      ]
     },
     "execution_count": 7,
     "metadata": {},
     "output_type": "execute_result"
    }
   ],
   "source": [
    "#splitting the original dataframe with regards to the operation column to get the credits dataset\n",
    "credits_df = raw_df[raw_df['operation']=='Credit in Cash']\n",
    "credits_df = credits_df[['amount','fulldate','fulltime']]\n",
    "credits_df.shape"
   ]
  },
  {
   "cell_type": "code",
   "execution_count": 8,
   "id": "d5b4c841",
   "metadata": {},
   "outputs": [],
   "source": [
    "#Noticed there were values indicating 60 mins and 60 seconds in the fulltime column.\n",
    "#We have to correct this to allow us change concated column(fulldate & fulltime), into datetime type.\n",
    "credits_df['fulltime'] = credits_df['fulltime'].str.replace(\":60:\",\":59:\")\n",
    "credits_df['fulltime'] = credits_df['fulltime'].str.replace(\":60\",\":59\")"
   ]
  },
  {
   "cell_type": "code",
   "execution_count": 9,
   "id": "d6ee15f2",
   "metadata": {},
   "outputs": [],
   "source": [
    "#Concating the fulldate and fulltime columns then channging the datatype to datetime\n",
    "#droping the fulldate and fulltime columns\n",
    "credits_df['date_time'] = pd.to_datetime(credits_df['fulldate'] +\" \" +credits_df['fulltime'])\n",
    "credits_df.drop(['fulldate','fulltime'],axis=1,inplace=True)"
   ]
  },
  {
   "cell_type": "code",
   "execution_count": 10,
   "id": "a9ba1501",
   "metadata": {},
   "outputs": [
    {
     "name": "stdout",
     "output_type": "stream",
     "text": [
      "<class 'pandas.core.frame.DataFrame'>\n",
      "Int64Index: 156743 entries, 0 to 1051813\n",
      "Data columns (total 2 columns):\n",
      " #   Column     Non-Null Count   Dtype         \n",
      "---  ------     --------------   -----         \n",
      " 0   amount     156743 non-null  float64       \n",
      " 1   date_time  156743 non-null  datetime64[ns]\n",
      "dtypes: datetime64[ns](1), float64(1)\n",
      "memory usage: 3.6 MB\n"
     ]
    }
   ],
   "source": [
    "credits_df.info()"
   ]
  },
  {
   "cell_type": "code",
   "execution_count": null,
   "id": "d3e1315b",
   "metadata": {},
   "outputs": [],
   "source": []
  }
 ],
 "metadata": {
  "kernelspec": {
   "display_name": "Python 3 (ipykernel)",
   "language": "python",
   "name": "python3"
  },
  "language_info": {
   "codemirror_mode": {
    "name": "ipython",
    "version": 3
   },
   "file_extension": ".py",
   "mimetype": "text/x-python",
   "name": "python",
   "nbconvert_exporter": "python",
   "pygments_lexer": "ipython3",
   "version": "3.9.12"
  }
 },
 "nbformat": 4,
 "nbformat_minor": 5
}
